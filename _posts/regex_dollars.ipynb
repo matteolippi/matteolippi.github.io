{
 "cells": [
  {
   "cell_type": "code",
   "execution_count": 1,
   "metadata": {},
   "outputs": [
    {
     "name": "stdout",
     "output_type": "stream",
     "text": [
      "All occurrences of single '$' have been replaced with '$$' in 2025-01-27-updatediff.md.\n"
     ]
    }
   ],
   "source": [
    "import re\n",
    "\n",
    "def replace_single_dollar_with_double(input_file, output_file):\n",
    "    with open(input_file, 'r') as file:\n",
    "        content = file.read()\n",
    "    \n",
    "    # Use a regular expression to replace only single $ not inside $$...$$ blocks\n",
    "    # This ensures we don't affect the $$ already used for block math\n",
    "    updated_content = re.sub(r'(?<!\\$)\\$(?!\\$)', '$$', content)\n",
    "    \n",
    "    # Write the updated content to a new file\n",
    "    with open(output_file, 'w') as file:\n",
    "        file.write(updated_content)\n",
    "\n",
    "# Example usage\n",
    "input_file = '2025-01-27-diffauto.md'  # Path to your original markdown file\n",
    "output_file = '2025-01-27-updatediff.md'  # Path for the updated markdown file\n",
    "\n",
    "replace_single_dollar_with_double(input_file, output_file)\n",
    "\n",
    "print(f\"All occurrences of single '$' have been replaced with '$$' in {output_file}.\")\n"
   ]
  },
  {
   "cell_type": "code",
   "execution_count": null,
   "metadata": {},
   "outputs": [],
   "source": []
  }
 ],
 "metadata": {
  "kernelspec": {
   "display_name": "pytorch_env",
   "language": "python",
   "name": "python3"
  },
  "language_info": {
   "codemirror_mode": {
    "name": "ipython",
    "version": 3
   },
   "file_extension": ".py",
   "mimetype": "text/x-python",
   "name": "python",
   "nbconvert_exporter": "python",
   "pygments_lexer": "ipython3",
   "version": "3.12.4"
  }
 },
 "nbformat": 4,
 "nbformat_minor": 2
}
